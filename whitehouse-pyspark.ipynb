{
 "cells": [
  {
   "cell_type": "code",
   "execution_count": 1,
   "metadata": {},
   "outputs": [
    {
     "name": "stdout",
     "output_type": "stream",
     "text": [
      "Requirement already satisfied: pyspark in /Users/michael/.pyenv/versions/3.10.5/lib/python3.10/site-packages (3.4.1)\n",
      "Requirement already satisfied: py4j==0.10.9.7 in /Users/michael/.pyenv/versions/3.10.5/lib/python3.10/site-packages (from pyspark) (0.10.9.7)\n",
      "\u001b[33mWARNING: You are using pip version 22.0.4; however, version 23.2.1 is available.\n",
      "You should consider upgrading via the '/Users/michael/.pyenv/versions/3.10.5/bin/python -m pip install --upgrade pip' command.\u001b[0m\u001b[33m\n",
      "\u001b[0mNote: you may need to restart the kernel to use updated packages.\n"
     ]
    }
   ],
   "source": [
    "%pip install pyspark"
   ]
  },
  {
   "cell_type": "markdown",
   "metadata": {},
   "source": [
    "Lets download all the CSVs from `links.txt` which contain the visitor records throughout 2022"
   ]
  },
  {
   "cell_type": "code",
   "execution_count": 19,
   "metadata": {},
   "outputs": [
    {
     "name": "stdout",
     "output_type": "stream",
     "text": [
      "mkdir: data: File exists\n"
     ]
    }
   ],
   "source": [
    "!mkdir data\n",
    "!wget -c -q -i links.txt -P data"
   ]
  },
  {
   "cell_type": "code",
   "execution_count": 2,
   "metadata": {},
   "outputs": [
    {
     "name": "stderr",
     "output_type": "stream",
     "text": [
      "23/08/31 17:58:25 WARN Utils: Your hostname, Michaels-MacBook-Air-49.local resolves to a loopback address: 127.0.0.1; using 10.91.63.36 instead (on interface en0)\n",
      "23/08/31 17:58:25 WARN Utils: Set SPARK_LOCAL_IP if you need to bind to another address\n",
      "Setting default log level to \"WARN\".\n",
      "To adjust logging level use sc.setLogLevel(newLevel). For SparkR, use setLogLevel(newLevel).\n",
      "23/08/31 17:58:25 WARN NativeCodeLoader: Unable to load native-hadoop library for your platform... using builtin-java classes where applicable\n",
      "23/08/31 17:58:26 WARN Utils: Service 'SparkUI' could not bind on port 4040. Attempting port 4041.\n"
     ]
    },
    {
     "data": {
      "text/html": [
       "\n",
       "            <div>\n",
       "                <p><b>SparkSession - in-memory</b></p>\n",
       "                \n",
       "        <div>\n",
       "            <p><b>SparkContext</b></p>\n",
       "\n",
       "            <p><a href=\"http://10.91.63.36:4041\">Spark UI</a></p>\n",
       "\n",
       "            <dl>\n",
       "              <dt>Version</dt>\n",
       "                <dd><code>v3.4.1</code></dd>\n",
       "              <dt>Master</dt>\n",
       "                <dd><code>local[*]</code></dd>\n",
       "              <dt>AppName</dt>\n",
       "                <dd><code>whitehouse</code></dd>\n",
       "            </dl>\n",
       "        </div>\n",
       "        \n",
       "            </div>\n",
       "        "
      ],
      "text/plain": [
       "<pyspark.sql.session.SparkSession at 0x10bcb32b0>"
      ]
     },
     "execution_count": 2,
     "metadata": {},
     "output_type": "execute_result"
    }
   ],
   "source": [
    "from pyspark.sql import SparkSession\n",
    "import pyspark.sql.functions as F\n",
    "from pyspark.sql.types import StructType, StructField, StringType, IntegerType\n",
    "spark = SparkSession.builder.appName(\"whitehouse\").getOrCreate()\n",
    "spark"
   ]
  },
  {
   "cell_type": "code",
   "execution_count": 20,
   "metadata": {},
   "outputs": [],
   "source": [
    "schema = StructType([\n",
    "    StructField('Last Name', StringType(), True),\n",
    "    StructField('First Name', StringType(), True),\n",
    "    StructField('Middle Initial', StringType(), True),\n",
    "    StructField('UIN', StringType(), True),\n",
    "    StructField('BDGNBR', StringType(), True),\n",
    "    StructField('Access Type', StringType(), True),\n",
    "    StructField('TOA', StringType(), True),\n",
    "    StructField('POA', StringType(), True),\n",
    "    StructField('TOD', StringType(), True),\n",
    "    StructField('POD', StringType(), True),\n",
    "    StructField('Appointment Made Date', StringType(), True),\n",
    "    StructField('Appointment Start Date', StringType(), True),\n",
    "    StructField('Appointment End Date', StringType(), True),\n",
    "    StructField('Appointment Cancel Date', StringType(), True),\n",
    "    StructField('Total People', IntegerType(), True),\n",
    "    StructField('Last Updated By', StringType(), True),\n",
    "    StructField('POST', StringType(), True),\n",
    "    StructField('Last Entry Date', StringType(), True),\n",
    "    StructField('Terminal Suffix', StringType(), True),\n",
    "    StructField('Visitee Last Name', StringType(), True),\n",
    "    StructField('Visitee First Name', StringType(), True),\n",
    "    StructField('Meeting Location', StringType(), True),\n",
    "    StructField('Meeting Room', StringType(), True),\n",
    "    StructField('Caller Last Name', StringType(), True),\n",
    "    StructField('Caller First Name', StringType(), True),\n",
    "    StructField('CALLER_ROOM', StringType(), True),\n",
    "    StructField('RELEASEDATE', StringType(), True)\n",
    "])\n",
    "\n",
    "df = spark.read.csv(\"data/*.csv\", header=True,\n",
    "                    schema=schema, enforceSchema=True)\n"
   ]
  },
  {
   "cell_type": "code",
   "execution_count": 21,
   "metadata": {},
   "outputs": [
    {
     "data": {
      "text/plain": [
       "583170"
      ]
     },
     "execution_count": 21,
     "metadata": {},
     "output_type": "execute_result"
    }
   ],
   "source": [
    "df.count()"
   ]
  },
  {
   "cell_type": "code",
   "execution_count": 23,
   "metadata": {},
   "outputs": [
    {
     "name": "stdout",
     "output_type": "stream",
     "text": [
      "+----------+-------------+--------------+------+------+-----------+-------------------+----+----+----+---------------------+----------------------+--------------------+-----------------------+------------+---------------+----+----------------+---------------+-----------------+------------------+----------------+-------------------+----------------+-----------------+-----------+-----------+\n",
      "| Last Name|   First Name|Middle Initial|   UIN|BDGNBR|Access Type|                TOA| POA| TOD| POD|Appointment Made Date|Appointment Start Date|Appointment End Date|Appointment Cancel Date|Total People|Last Updated By|POST| Last Entry Date|Terminal Suffix|Visitee Last Name|Visitee First Name|Meeting Location|       Meeting Room|Caller Last Name|Caller First Name|CALLER_ROOM|RELEASEDATE|\n",
      "+----------+-------------+--------------+------+------+-----------+-------------------+----+----+----+---------------------+----------------------+--------------------+-----------------------+------------+---------------+----+----------------+---------------+-----------------+------------------+----------------+-------------------+----------------+-----------------+-----------+-----------+\n",
      "|     AARON|         JILL|             N|U02817|  null|         VA|Dec 12 2022  6:33PM|null|null|null|     12/12/2022 13:38|      12/12/2022 19:00|    12/12/2022 23:59|                   null|         429|             JL| WIN|12/12/2022 13:43|             JL|            POTUS|              null|              WH|           EW - RES|             LEE|           JANICE|       null|  3/30/2023|\n",
      "|  AARONSON|        SCOTT|             I|U03995|196944|         VA|Dec 14 2022 12:59PM|null|null| B04|      12/7/2022 20:48|      12/14/2022 13:00|    12/14/2022 23:59|                   null|          67|             DC| WIN| 12/14/2022 9:59|             DC|           Benson|             Sally|            OEOB|                350|         COLEMAN|            DONNA|       null|  3/30/2023|\n",
      "|   AASERUD|          AMY|             R|U00688|  null|         VA|Dec  6 2022 10:41AM|null|null|null|      11/29/2022 2:35|       12/6/2022 10:30|     12/6/2022 23:59|                   null|          30|             VW| WIN|11/29/2022 10:24|             VW|           Office|          Visitors|              WH|            EW TOUR|           WAVES|   VISITORSOFFICE|       null|  3/30/2023|\n",
      "|    AASSAR|          MIA|             L|U02817|  null|         VA|Dec 12 2022  6:56PM|null|null|null|     12/12/2022 13:38|      12/12/2022 19:00|    12/12/2022 23:59|                   null|         429|             JL| WIN|12/12/2022 13:43|             JL|            POTUS|              null|              WH|           EW - RES|             LEE|           JANICE|       null|  3/30/2023|\n",
      "|      ABAB|     MASTANEH|             N|U00894|  null|         VA|               null|null|null|null|     11/29/2022 20:30|       12/1/2022 20:30|     12/1/2022 23:59|                   null|           6|             TW| WIN|11/29/2022 21:07|             TW|         Saavedra|           Crystal|              WH|          WEST WING|              WW|             TOUR|       null|  3/30/2023|\n",
      "|      ABAB|     MASTANEH|             N|U01190|  null|         VA|               null|null|null|null|     11/30/2022 14:20|        12/1/2022 6:15|     12/1/2022 23:59|                   null|        5619|             KB| WIN|  12/1/2022 7:14|             KB|           Ballen|             Kevin|              WH|         SOUTH LAWN|          BALLEN|            KEVIN|       null|  3/30/2023|\n",
      "|      ABAB|     MASTANEH|             N|U01683|  null|         VA|Dec  3 2022 12:14PM|null|null|null|      12/1/2022 20:32|       12/3/2022 12:00|     12/3/2022 23:59|                   null|         206|             HJ| WIN|  12/3/2022 7:13|             HJ|           Office|          Visitors|              WH|           EW - RES|           JONES|            HALEY|       null|  3/30/2023|\n",
      "|      ABAB|     MASTANEH|             N|U02790|  null|         VA|Dec  6 2022  8:59PM|null|null|null|      12/5/2022 11:00|       12/6/2022 21:45|     12/6/2022 23:59|                   null|           5|             TW| WIN| 12/5/2022 20:32|             TW|        Bernstein|           Cynthia|              WH|          WEST WING|              WW|             TOUR|       null|  3/30/2023|\n",
      "|  ABABULGU|MOHAMMEDRAFIE|             A|U05894|  null|         VA|               null|null|null|null|      12/12/2022 0:19|      12/14/2022 17:30|    12/14/2022 23:59|                   null|         135|             CG| WIN|12/14/2022 20:18|             CG|            POTUS|              null|              WH|        State Floor|         GODDARD|           CONNOR|       null|  3/30/2023|\n",
      "|    ABADIR|       ANGELA|             K|U07806|  null|         VA|Dec 18 2022 11:07AM|null|null|null|     12/15/2022 18:27|      12/18/2022 11:00|    12/18/2022 23:59|                   null|         224|             HJ| WIN| 12/16/2022 9:15|             HJ|           Office|          Visitors|              WH|           EW - RES|           JONES|            HALEY|       null|  3/30/2023|\n",
      "|    ABADIR|      MIRANDA|             K|U02833|  null|         VA|Dec 22 2022  1:38PM|null|null|null|      12/5/2022 12:09|      12/22/2022 13:00|    12/22/2022 23:59|                   null|         664|             PS| WIN|12/22/2022 13:12|             PS|            POTUS|              null|              WH|           EW - RES|        SCHWARTZ|           PEYTON|       null|  3/30/2023|\n",
      "|    ABADIR|      MIRANDA|             K|U07806|  null|         VA|Dec 18 2022 11:07AM|null|null|null|     12/15/2022 18:27|      12/18/2022 11:00|    12/18/2022 23:59|                   null|         224|             HJ| WIN| 12/16/2022 9:15|             HJ|           Office|          Visitors|              WH|           EW - RES|           JONES|            HALEY|       null|  3/30/2023|\n",
      "|    ABADIR|        SAMIA|             F|U07806|  null|         VA|Dec 18 2022 11:07AM|null|null|null|     12/15/2022 18:27|      12/18/2022 11:00|    12/18/2022 23:59|                   null|         224|             HJ| WIN| 12/16/2022 9:15|             HJ|           Office|          Visitors|              WH|           EW - RES|           JONES|            HALEY|       null|  3/30/2023|\n",
      "|  ABALLULU|        TOFIK|             M|U05894|  null|         VA|               null|null|null|null|      12/12/2022 0:19|      12/14/2022 17:30|    12/14/2022 23:59|                   null|         135|             CG| WIN|12/14/2022 20:18|             CG|            POTUS|              null|              WH|        State Floor|         GODDARD|           CONNOR|       null|  3/30/2023|\n",
      "|   ABALULU|        TOFIK|             M|U07048|  null|         VA|               null|null|null|null|     12/14/2022 18:10|      12/14/2022 18:30|    12/14/2022 23:59|                   null|           3|             CF| WIN|12/14/2022 20:16|             CF|        Fromstein|           Charles|            OEOB| Indian Treaty Room|       FROMSTEIN|          CHARLES|       null|  3/30/2023|\n",
      "|      ABAR|   BERNADETTE|             M|U05050|  null|         VA|Dec 11 2022  6:02PM|null|null|null|      12/9/2022 12:47|      12/11/2022 18:00|    12/11/2022 23:59|                   null|         240|             HJ| WIN| 12/9/2022 16:56|             HJ|           Office|          Visitors|              WH|           EW - RES|           JONES|            HALEY|       null|  3/30/2023|\n",
      "|ABBAMOUSSA|      ABSATOU|             N|U02853|  null|         VA|Dec  6 2022  4:13PM|null|null|null|      12/5/2022 10:31|       12/6/2022 16:30|     12/6/2022 23:59|                   null|          61|             HJ| WIN| 12/6/2022 14:59|             HJ|           Office|          Visitors|              WH|           EW - RES|           JONES|            HALEY|       null|  3/30/2023|\n",
      "|     ABBAN|         ROSE|             A|U09018|  null|         VA|Dec 19 2022 12:56PM|null|null|null|     12/18/2022 10:21|      12/19/2022 12:30|    12/19/2022 23:59|                   null|         172|             CM| WIN|12/19/2022 10:07|             CM|          Marconi|           Claudia|              WH|        State Floor|         MARCONI|          CLAUDIA|       null|  3/30/2023|\n",
      "|     ABBAS|        ARASH|             N|U06529|197406|         VA|Dec 18 2022  6:48PM|null|null|null|     12/13/2022 17:09|      12/18/2022 19:00|    12/18/2022 23:59|                   null|          15|             AS| WIN|12/16/2022 17:26|             AS|        Schechter|              Alia|            OEOB|Bowling Alley - 037|       SCHECHTER|             ALIA|       null|  3/30/2023|\n",
      "|     ABBAS|        ARASH|             N|U08023|  null|         VA|Dec 19 2022  1:52PM|null|null|null|     12/16/2022 11:42|      12/19/2022 14:00|    12/19/2022 23:59|                   null|         203|             CM| WIN|12/19/2022 11:50|             CM|          Marconi|           Claudia|              WH|        State Floor|         MARCONI|          CLAUDIA|       null|  3/30/2023|\n",
      "+----------+-------------+--------------+------+------+-----------+-------------------+----+----+----+---------------------+----------------------+--------------------+-----------------------+------------+---------------+----+----------------+---------------+-----------------+------------------+----------------+-------------------+----------------+-----------------+-----------+-----------+\n",
      "only showing top 20 rows\n",
      "\n"
     ]
    }
   ],
   "source": [
    "df.show()"
   ]
  },
  {
   "cell_type": "code",
   "execution_count": 24,
   "metadata": {},
   "outputs": [
    {
     "data": {
      "text/plain": [
       "StructType([StructField('Last Name', StringType(), True), StructField('First Name', StringType(), True), StructField('Middle Initial', StringType(), True), StructField('UIN', StringType(), True), StructField('BDGNBR', StringType(), True), StructField('Access Type', StringType(), True), StructField('TOA', StringType(), True), StructField('POA', StringType(), True), StructField('TOD', StringType(), True), StructField('POD', StringType(), True), StructField('Appointment Made Date', TimestampType(), True), StructField('Appointment Start Date', TimestampType(), True), StructField('Appointment End Date', TimestampType(), True), StructField('Appointment Cancel Date', TimestampType(), True), StructField('Total People', IntegerType(), True), StructField('Last Updated By', StringType(), True), StructField('POST', StringType(), True), StructField('Last Entry Date', TimestampType(), True), StructField('Terminal Suffix', StringType(), True), StructField('Visitee Last Name', StringType(), True), StructField('Visitee First Name', StringType(), True), StructField('Meeting Location', StringType(), True), StructField('Meeting Room', StringType(), True), StructField('Caller Last Name', StringType(), True), StructField('Caller First Name', StringType(), True), StructField('CALLER_ROOM', StringType(), True), StructField('RELEASEDATE', StringType(), True)])"
      ]
     },
     "execution_count": 24,
     "metadata": {},
     "output_type": "execute_result"
    }
   ],
   "source": [
    "timestamp_cols = [\"Appointment Made Date\", \"Appointment Start Date\", \"Appointment End Date\", \"Appointment Cancel Date\", \"Last Entry Date\"]\n",
    "for ts_col in timestamp_cols:\n",
    "    df = df.withColumn(ts_col, F.to_timestamp(ts_col, \"M/d/yyyy H:mm\"))"
   ]
  },
  {
   "cell_type": "code",
   "execution_count": 25,
   "metadata": {},
   "outputs": [],
   "source": [
    "df = df.withColumn(\"TOA\", F.to_timestamp(\"TOA\", \"MMM [ ]d yyyy [ ]h:mma\"))"
   ]
  },
  {
   "cell_type": "code",
   "execution_count": 26,
   "metadata": {},
   "outputs": [
    {
     "name": "stdout",
     "output_type": "stream",
     "text": [
      "+----------+-------------+--------------+------+------+-----------+-------------------+----+----+----+---------------------+----------------------+--------------------+-----------------------+------------+---------------+----+-------------------+---------------+-----------------+------------------+----------------+-------------------+----------------+-----------------+-----------+-----------+\n",
      "| Last Name|   First Name|Middle Initial|   UIN|BDGNBR|Access Type|                TOA| POA| TOD| POD|Appointment Made Date|Appointment Start Date|Appointment End Date|Appointment Cancel Date|Total People|Last Updated By|POST|    Last Entry Date|Terminal Suffix|Visitee Last Name|Visitee First Name|Meeting Location|       Meeting Room|Caller Last Name|Caller First Name|CALLER_ROOM|RELEASEDATE|\n",
      "+----------+-------------+--------------+------+------+-----------+-------------------+----+----+----+---------------------+----------------------+--------------------+-----------------------+------------+---------------+----+-------------------+---------------+-----------------+------------------+----------------+-------------------+----------------+-----------------+-----------+-----------+\n",
      "|     AARON|         JILL|             N|U02817|  null|         VA|2022-12-12 18:33:00|null|null|null|  2022-12-12 13:38:00|   2022-12-12 19:00:00| 2022-12-12 23:59:00|                   null|         429|             JL| WIN|2022-12-12 13:43:00|             JL|            POTUS|              null|              WH|           EW - RES|             LEE|           JANICE|       null|  3/30/2023|\n",
      "|  AARONSON|        SCOTT|             I|U03995|196944|         VA|2022-12-14 12:59:00|null|null| B04|  2022-12-07 20:48:00|   2022-12-14 13:00:00| 2022-12-14 23:59:00|                   null|          67|             DC| WIN|2022-12-14 09:59:00|             DC|           Benson|             Sally|            OEOB|                350|         COLEMAN|            DONNA|       null|  3/30/2023|\n",
      "|   AASERUD|          AMY|             R|U00688|  null|         VA|2022-12-06 10:41:00|null|null|null|  2022-11-29 02:35:00|   2022-12-06 10:30:00| 2022-12-06 23:59:00|                   null|          30|             VW| WIN|2022-11-29 10:24:00|             VW|           Office|          Visitors|              WH|            EW TOUR|           WAVES|   VISITORSOFFICE|       null|  3/30/2023|\n",
      "|    AASSAR|          MIA|             L|U02817|  null|         VA|2022-12-12 18:56:00|null|null|null|  2022-12-12 13:38:00|   2022-12-12 19:00:00| 2022-12-12 23:59:00|                   null|         429|             JL| WIN|2022-12-12 13:43:00|             JL|            POTUS|              null|              WH|           EW - RES|             LEE|           JANICE|       null|  3/30/2023|\n",
      "|      ABAB|     MASTANEH|             N|U00894|  null|         VA|               null|null|null|null|  2022-11-29 20:30:00|   2022-12-01 20:30:00| 2022-12-01 23:59:00|                   null|           6|             TW| WIN|2022-11-29 21:07:00|             TW|         Saavedra|           Crystal|              WH|          WEST WING|              WW|             TOUR|       null|  3/30/2023|\n",
      "|      ABAB|     MASTANEH|             N|U01190|  null|         VA|               null|null|null|null|  2022-11-30 14:20:00|   2022-12-01 06:15:00| 2022-12-01 23:59:00|                   null|        5619|             KB| WIN|2022-12-01 07:14:00|             KB|           Ballen|             Kevin|              WH|         SOUTH LAWN|          BALLEN|            KEVIN|       null|  3/30/2023|\n",
      "|      ABAB|     MASTANEH|             N|U01683|  null|         VA|2022-12-03 12:14:00|null|null|null|  2022-12-01 20:32:00|   2022-12-03 12:00:00| 2022-12-03 23:59:00|                   null|         206|             HJ| WIN|2022-12-03 07:13:00|             HJ|           Office|          Visitors|              WH|           EW - RES|           JONES|            HALEY|       null|  3/30/2023|\n",
      "|      ABAB|     MASTANEH|             N|U02790|  null|         VA|2022-12-06 20:59:00|null|null|null|  2022-12-05 11:00:00|   2022-12-06 21:45:00| 2022-12-06 23:59:00|                   null|           5|             TW| WIN|2022-12-05 20:32:00|             TW|        Bernstein|           Cynthia|              WH|          WEST WING|              WW|             TOUR|       null|  3/30/2023|\n",
      "|  ABABULGU|MOHAMMEDRAFIE|             A|U05894|  null|         VA|               null|null|null|null|  2022-12-12 00:19:00|   2022-12-14 17:30:00| 2022-12-14 23:59:00|                   null|         135|             CG| WIN|2022-12-14 20:18:00|             CG|            POTUS|              null|              WH|        State Floor|         GODDARD|           CONNOR|       null|  3/30/2023|\n",
      "|    ABADIR|       ANGELA|             K|U07806|  null|         VA|2022-12-18 11:07:00|null|null|null|  2022-12-15 18:27:00|   2022-12-18 11:00:00| 2022-12-18 23:59:00|                   null|         224|             HJ| WIN|2022-12-16 09:15:00|             HJ|           Office|          Visitors|              WH|           EW - RES|           JONES|            HALEY|       null|  3/30/2023|\n",
      "|    ABADIR|      MIRANDA|             K|U02833|  null|         VA|2022-12-22 13:38:00|null|null|null|  2022-12-05 12:09:00|   2022-12-22 13:00:00| 2022-12-22 23:59:00|                   null|         664|             PS| WIN|2022-12-22 13:12:00|             PS|            POTUS|              null|              WH|           EW - RES|        SCHWARTZ|           PEYTON|       null|  3/30/2023|\n",
      "|    ABADIR|      MIRANDA|             K|U07806|  null|         VA|2022-12-18 11:07:00|null|null|null|  2022-12-15 18:27:00|   2022-12-18 11:00:00| 2022-12-18 23:59:00|                   null|         224|             HJ| WIN|2022-12-16 09:15:00|             HJ|           Office|          Visitors|              WH|           EW - RES|           JONES|            HALEY|       null|  3/30/2023|\n",
      "|    ABADIR|        SAMIA|             F|U07806|  null|         VA|2022-12-18 11:07:00|null|null|null|  2022-12-15 18:27:00|   2022-12-18 11:00:00| 2022-12-18 23:59:00|                   null|         224|             HJ| WIN|2022-12-16 09:15:00|             HJ|           Office|          Visitors|              WH|           EW - RES|           JONES|            HALEY|       null|  3/30/2023|\n",
      "|  ABALLULU|        TOFIK|             M|U05894|  null|         VA|               null|null|null|null|  2022-12-12 00:19:00|   2022-12-14 17:30:00| 2022-12-14 23:59:00|                   null|         135|             CG| WIN|2022-12-14 20:18:00|             CG|            POTUS|              null|              WH|        State Floor|         GODDARD|           CONNOR|       null|  3/30/2023|\n",
      "|   ABALULU|        TOFIK|             M|U07048|  null|         VA|               null|null|null|null|  2022-12-14 18:10:00|   2022-12-14 18:30:00| 2022-12-14 23:59:00|                   null|           3|             CF| WIN|2022-12-14 20:16:00|             CF|        Fromstein|           Charles|            OEOB| Indian Treaty Room|       FROMSTEIN|          CHARLES|       null|  3/30/2023|\n",
      "|      ABAR|   BERNADETTE|             M|U05050|  null|         VA|2022-12-11 18:02:00|null|null|null|  2022-12-09 12:47:00|   2022-12-11 18:00:00| 2022-12-11 23:59:00|                   null|         240|             HJ| WIN|2022-12-09 16:56:00|             HJ|           Office|          Visitors|              WH|           EW - RES|           JONES|            HALEY|       null|  3/30/2023|\n",
      "|ABBAMOUSSA|      ABSATOU|             N|U02853|  null|         VA|2022-12-06 16:13:00|null|null|null|  2022-12-05 10:31:00|   2022-12-06 16:30:00| 2022-12-06 23:59:00|                   null|          61|             HJ| WIN|2022-12-06 14:59:00|             HJ|           Office|          Visitors|              WH|           EW - RES|           JONES|            HALEY|       null|  3/30/2023|\n",
      "|     ABBAN|         ROSE|             A|U09018|  null|         VA|2022-12-19 12:56:00|null|null|null|  2022-12-18 10:21:00|   2022-12-19 12:30:00| 2022-12-19 23:59:00|                   null|         172|             CM| WIN|2022-12-19 10:07:00|             CM|          Marconi|           Claudia|              WH|        State Floor|         MARCONI|          CLAUDIA|       null|  3/30/2023|\n",
      "|     ABBAS|        ARASH|             N|U06529|197406|         VA|2022-12-18 18:48:00|null|null|null|  2022-12-13 17:09:00|   2022-12-18 19:00:00| 2022-12-18 23:59:00|                   null|          15|             AS| WIN|2022-12-16 17:26:00|             AS|        Schechter|              Alia|            OEOB|Bowling Alley - 037|       SCHECHTER|             ALIA|       null|  3/30/2023|\n",
      "|     ABBAS|        ARASH|             N|U08023|  null|         VA|2022-12-19 13:52:00|null|null|null|  2022-12-16 11:42:00|   2022-12-19 14:00:00| 2022-12-19 23:59:00|                   null|         203|             CM| WIN|2022-12-19 11:50:00|             CM|          Marconi|           Claudia|              WH|        State Floor|         MARCONI|          CLAUDIA|       null|  3/30/2023|\n",
      "+----------+-------------+--------------+------+------+-----------+-------------------+----+----+----+---------------------+----------------------+--------------------+-----------------------+------------+---------------+----+-------------------+---------------+-----------------+------------------+----------------+-------------------+----------------+-----------------+-----------+-----------+\n",
      "only showing top 20 rows\n",
      "\n"
     ]
    }
   ],
   "source": [
    "df.show()"
   ]
  },
  {
   "cell_type": "code",
   "execution_count": 27,
   "metadata": {},
   "outputs": [
    {
     "name": "stdout",
     "output_type": "stream",
     "text": [
      "+----------+-----------+--------------+-----+\n",
      "|First Name|  Last Name|Middle Initial|count|\n",
      "+----------+-----------+--------------+-----+\n",
      "|     JAMES|    LEVINGS|             W|   85|\n",
      "|   MICHAEL|     HERZOG|             N|   70|\n",
      "|   PROTAZI|    SEMINDU|             M|   60|\n",
      "|    DANIEL|KRITENBRINK|             J|   60|\n",
      "|   KRYSTAL|       KAAI|             C|   59|\n",
      "|   RUSSELL|     WILSON|             A|   58|\n",
      "|      FERN|       SATO|             E|   56|\n",
      "|  VIRGINIA|    MCQUADE|             S|   56|\n",
      "|      THEA|    KENDLER|             D|   51|\n",
      "|  JENNIFER|    ESPARZA|             N|   50|\n",
      "+----------+-----------+--------------+-----+\n",
      "only showing top 10 rows\n",
      "\n"
     ]
    }
   ],
   "source": [
    "# 10 most frequent visitors\n",
    "df.groupBy(\n",
    "    \"First Name\", \"Last Name\", \"Middle Initial\",\n",
    ").agg(\n",
    "    F.count(\"Last Name\").alias(\"count\")\n",
    "    ).orderBy(F.col(\"count\").desc()).show(10)"
   ]
  },
  {
   "cell_type": "code",
   "execution_count": 28,
   "metadata": {},
   "outputs": [
    {
     "name": "stdout",
     "output_type": "stream",
     "text": [
      "+------------------+-----------------+------+\n",
      "|Visitee First Name|Visitee Last Name| count|\n",
      "+------------------+-----------------+------+\n",
      "|          Visitors|           Office|328644|\n",
      "|              null|            POTUS| 52748|\n",
      "|                Ed|           Teleky| 10265|\n",
      "|            Amanda|          Trocola|  6009|\n",
      "|             Kevin|           Ballen|  4841|\n",
      "|              null|           VPOTUS|  3712|\n",
      "|              Room|                1|  3267|\n",
      "|               Dan|              Via|  2813|\n",
      "|            Peyton|         Schwartz|  2622|\n",
      "|          Gionelly|            Mills|  2619|\n",
      "+------------------+-----------------+------+\n",
      "only showing top 10 rows\n",
      "\n"
     ]
    }
   ],
   "source": [
    "# The 10 most frequently visited people (visitee_namelast, visitee_namefirst) in the White House.\n",
    "df.groupBy(\"Visitee First Name\", \"Visitee Last Name\").agg(\n",
    "    F.count(\"Last Name\").alias(\"count\")\n",
    "    ).orderBy(F.col(\"count\").desc()).show(10)\n"
   ]
  },
  {
   "cell_type": "code",
   "execution_count": 29,
   "metadata": {},
   "outputs": [
    {
     "name": "stderr",
     "output_type": "stream",
     "text": [
      "[Stage 42:>                                                         (0 + 8) / 9]\r"
     ]
    },
    {
     "name": "stdout",
     "output_type": "stream",
     "text": [
      "+----------+--------------+---------+------------------+-----------------+-----+\n",
      "|First Name|Middle Initial|Last Name|Visitee First Name|Visitee Last Name|count|\n",
      "+----------+--------------+---------+------------------+-----------------+-----+\n",
      "|     JAMES|             W|  LEVINGS|              null|       Kolakowski|   55|\n",
      "|      FERN|             E|     SATO|               Dan|              Via|   41|\n",
      "|  PATRICIA|             A|  DONILON|              Jing|               Qu|   40|\n",
      "|  PHILIPPA|             C|  TARRANT|            Amanda|          Trocola|   39|\n",
      "|   RUSSELL|             A|   WILSON|               Dan|              Via|   38|\n",
      "|    ANDREW|             N|   RABENS|              Mike|             Pyle|   37|\n",
      "|   MARCELO|             R| VONGLEHN|            Amanda|          Trocola|   36|\n",
      "|      OWEN|             M|   HOSLER|                Ed|           Teleky|   34|\n",
      "|     DAVID|             P|   MCCABE|                Ed|           Teleky|   34|\n",
      "|   STEPHEN|             T|  KOEHLER|               Jon|            Finer|   33|\n",
      "+----------+--------------+---------+------------------+-----------------+-----+\n",
      "only showing top 10 rows\n",
      "\n"
     ]
    },
    {
     "name": "stderr",
     "output_type": "stream",
     "text": [
      "                                                                                \r"
     ]
    }
   ],
   "source": [
    "# The 10 most frequent visitor-visitee combinations.\n",
    "df.groupBy(\n",
    "\"First Name\", \"Middle Initial\", \"Last Name\", \n",
    "\"Visitee First Name\", \"Visitee Last Name\").agg(\n",
    "    F.count(\"Last Name\").alias(\"count\")\n",
    "    ).orderBy(F.col(\"count\").desc()).show(10)"
   ]
  },
  {
   "cell_type": "markdown",
   "metadata": {},
   "source": [
    "# Who met with POTUS?"
   ]
  },
  {
   "cell_type": "code",
   "execution_count": 30,
   "metadata": {},
   "outputs": [
    {
     "name": "stdout",
     "output_type": "stream",
     "text": [
      "+-----------+--------------+----------------+-----+\n",
      "| First Name|Middle Initial|       Last Name|count|\n",
      "+-----------+--------------+----------------+-----+\n",
      "|    MELANIE|             L|        CAMPBELL|   12|\n",
      "|CHRISTOPHER|             J|            DODD|   12|\n",
      "|       MARK|             A|          TAKANO|   12|\n",
      "|     RHONDA|             N|      WEINGARTEN|   11|\n",
      "|CHRISTOPHER|             A|           COONS|   11|\n",
      "|     DEBBIE|             N|WASSERMANSCHULTZ|   10|\n",
      "|    MICHAEL|             P|          DILLON|   10|\n",
      "|       JUDY|             N|             CHU|   10|\n",
      "|    NANETTE|             N|        BARRAGAN|   10|\n",
      "|     NIKEMA|             N|        WILLIAMS|   10|\n",
      "+-----------+--------------+----------------+-----+\n",
      "only showing top 10 rows\n",
      "\n"
     ]
    }
   ],
   "source": [
    "df.filter(F.col(\"Visitee Last Name\") == \"POTUS\").groupBy(\n",
    "    \"First Name\", \"Middle Initial\", \"Last Name\",\n",
    ").agg(\n",
    "    F.count(\"Last Name\").alias(\"count\")\n",
    "    ).orderBy(F.col(\"count\").desc()).show(10)"
   ]
  },
  {
   "cell_type": "markdown",
   "metadata": {},
   "source": [
    "Melanie Campbell is a civil rights leader.\n",
    "\n",
    "Christopher Dodd is a former US senator is reportedly a friend of Joe Biden and advised him on his presidential campaign.\n",
    "\n",
    "Mark Takano is the first openly gay non-white member of the House of representatives.\n"
   ]
  },
  {
   "cell_type": "markdown",
   "metadata": {},
   "source": [
    "# Are Visitors late to their appointment?"
   ]
  },
  {
   "cell_type": "code",
   "execution_count": 31,
   "metadata": {},
   "outputs": [
    {
     "name": "stdout",
     "output_type": "stream",
     "text": [
      "+-----------------+----------+----------+\n",
      "|       avg(delta)|max(delta)|min(delta)|\n",
      "+-----------------+----------+----------+\n",
      "|408.4646432433241|     45660|    -52320|\n",
      "+-----------------+----------+----------+\n",
      "\n"
     ]
    }
   ],
   "source": [
    "df.filter(F.col(\"TOA\").isNotNull()).select(\n",
    "    (F.col(\"TOA\").cast(\"long\") - F.col(\"Appointment Start Date\").cast(\"long\")).alias(\"delta\")\n",
    "    ).agg(F.avg(\"delta\"), F.max(\"delta\"), F.min(\"delta\")).show()"
   ]
  },
  {
   "cell_type": "markdown",
   "metadata": {},
   "source": [
    "On average visitors are late by 400 seconds (or ~7minutes)"
   ]
  },
  {
   "cell_type": "code",
   "execution_count": 32,
   "metadata": {},
   "outputs": [
    {
     "name": "stderr",
     "output_type": "stream",
     "text": [
      "                                                                                \r"
     ]
    },
    {
     "data": {
      "text/plain": [
       "Text(0.5, 1.0, 'Lateness of visitors to the White House')"
      ]
     },
     "execution_count": 32,
     "metadata": {},
     "output_type": "execute_result"
    },
    {
     "data": {
      "image/png": "[encoded data removed]",
      "text/plain": [
       "<Figure size 640x480 with 1 Axes>"
      ]
     },
     "metadata": {},
     "output_type": "display_data"
    }
   ],
   "source": [
    "import matplotlib.pyplot as plt\n",
    "import numpy as np\n",
    "\n",
    "bins, counts = df.filter(F.col(\"TOA\").isNotNull()).select(\n",
    "    ((F.col(\"TOA\").cast(\"long\") - F.col(\"Appointment Start Date\").cast(\"long\"))/60).alias(\"delta\")\n",
    "    ).rdd.flatMap(lambda x: x).histogram(list(np.linspace(-80, +120, 50)))\n",
    "\n",
    "plt.hist(bins[:-1], bins=bins, weights=counts)\n",
    "plt.xlabel(\"Delay (min)\")\n",
    "plt.ylabel(\"Counts\")\n",
    "plt.title(\"Lateness of visitors to the White House\")"
   ]
  },
  {
   "cell_type": "markdown",
   "metadata": {},
   "source": [
    "# How long are appointments?"
   ]
  },
  {
   "cell_type": "code",
   "execution_count": 33,
   "metadata": {},
   "outputs": [
    {
     "name": "stdout",
     "output_type": "stream",
     "text": [
      "+------------------+----------+----------+\n",
      "|        avg(delta)|max(delta)|min(delta)|\n",
      "+------------------+----------+----------+\n",
      "|42894.041668810125|     86340|       540|\n",
      "+------------------+----------+----------+\n",
      "\n"
     ]
    }
   ],
   "source": [
    "df.select(\n",
    "    (F.col(\"Appointment End Date\").cast(\"long\") - F.col(\"Appointment Start Date\").cast(\"long\")).alias(\"delta\")\n",
    "    ).agg(F.avg(\"delta\"), F.max(\"delta\"), F.min(\"delta\")).show()"
   ]
  },
  {
   "cell_type": "code",
   "execution_count": 41,
   "metadata": {},
   "outputs": [
    {
     "name": "stderr",
     "output_type": "stream",
     "text": [
      "                                                                                \r"
     ]
    }
   ],
   "source": [
    "bins, counts = df.select(\n",
    "    ((F.col(\"Appointment End Date\").cast(\"long\") - F.col(\"Appointment Start Date\").cast(\"long\")) / 60).alias(\"delta\")\n",
    "    ).rdd.flatMap(lambda x: x).histogram(list(np.linspace(0, +1200, 100)))\n",
    "\n",
    "plt.hist(bins[:-1], bins=bins, weights=counts)\n",
    "plt.xlabel(\"Duration (min)\")\n",
    "plt.ylabel(\"Counts\")\n",
    "plt.title(\"White House Appointment Duration\")"
   ]
  },
  {
   "cell_type": "markdown",
   "metadata": {},
   "source": [
    "# How many people visit the white house each time?"
   ]
  },
  {
   "cell_type": "code",
   "execution_count": 42,
   "metadata": {},
   "outputs": [
    {
     "name": "stdout",
     "output_type": "stream",
     "text": [
      "+-----------------+-----------------+-----------------+\n",
      "|avg(Total People)|max(Total People)|min(Total People)|\n",
      "+-----------------+-----------------+-----------------+\n",
      "|174.5766671810964|             5619|                1|\n",
      "+-----------------+-----------------+-----------------+\n",
      "\n"
     ]
    }
   ],
   "source": [
    "df.select(\n",
    "    (F.col(\"Total People\"))\n",
    "    ).agg(F.avg(\"Total People\"), F.max(\"Total People\"), F.min(\"Total People\")).show()"
   ]
  },
  {
   "cell_type": "code",
   "execution_count": 39,
   "metadata": {},
   "outputs": [
    {
     "data": {
      "text/plain": [
       "Text(0.5, 1.0, 'People per visit')"
      ]
     },
     "execution_count": 39,
     "metadata": {},
     "output_type": "execute_result"
    },
    {
     "data": {
      "image/png": "[encoded data removed]",
      "text/plain": [
       "<Figure size 640x480 with 1 Axes>"
      ]
     },
     "metadata": {},
     "output_type": "display_data"
    }
   ],
   "source": [
    "bins, counts = df.select(\n",
    "    (F.col(\"Total People\"))\n",
    "    ).rdd.flatMap(lambda x: x).histogram(list(np.linspace(0, 200, 50)))\n",
    "\n",
    "plt.hist(bins[:-1], bins=bins, weights=counts)\n",
    "plt.xlabel(\"# People\")\n",
    "plt.ylabel(\"Counts\")\n",
    "plt.title(\"People per visit\")"
   ]
  },
  {
   "cell_type": "code",
   "execution_count": 7,
   "metadata": {},
   "outputs": [],
   "source": [
    "spark.stop()"
   ]
  }
 ],
 "metadata": {
  "kernelspec": {
   "display_name": "Python 3",
   "language": "python",
   "name": "python3"
  },
  "language_info": {
   "codemirror_mode": {
    "name": "ipython",
    "version": 3
   },
   "file_extension": ".py",
   "mimetype": "text/x-python",
   "name": "python",
   "nbconvert_exporter": "python",
   "pygments_lexer": "ipython3",
   "version": "3.10.5"
  },
  "orig_nbformat": 4
 },
 "nbformat": 4,
 "nbformat_minor": 2
}
